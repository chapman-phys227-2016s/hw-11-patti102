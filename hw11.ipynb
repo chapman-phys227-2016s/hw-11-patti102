{
 "cells": [
  {
   "cell_type": "markdown",
   "metadata": {
    "collapsed": false
   },
   "source": [
    "# Homework 11\n",
    "\n",
    "### Taylor Patti\n",
    "### 5/6/16"
   ]
  },
  {
   "cell_type": "markdown",
   "metadata": {
    "collapsed": false
   },
   "source": [
    "# Gif of various timesteps"
   ]
  },
  {
   "cell_type": "markdown",
   "metadata": {},
   "source": [
    "Each frame of the gif shows a poincare section of the function at each time step delta_t = 2pi for n from 0 to 1000. The curve that we see in each frame of the gif is the lack of periodicity in the function due to its chaotic behavior. If the function were periodic, it would consist of a single point as it would return to the same point at the end of each period. If it were periodic with multiple fixed points, we would see but a few descrete points to which it would return. Instead, we see a continuous distribution of points progressing further and further away from the original point in question.\n",
    "\n",
    "As the frames progress throughout the gif, we see the effect of adding one hundredth of 2pi to the initial value of t for each point as done before. The trajectory of the curve changes substantially for each small increment which is added. These alterations change the trajectory as they essentially change the initial conditions with which the plots were generated. Ultimately, when all but a very small portion of 2pi has been added as the initial disturbance, such as the system in the last frame, the trajectory returns to nearly that of the initial frame. This is because while differing original values of t determine the initial conditions and thus impact the trajectory of each frame, the component functions of the coupled differential equations themselves are not chaotic, but rather periodic on this interval. Thus, in adding the period to the initial time parameter we have changed nothing."
   ]
  },
  {
   "cell_type": "markdown",
   "metadata": {},
   "source": [
    "![alt text](almightywhipofchaos.gif)"
   ]
  }
 ],
 "metadata": {
  "kernelspec": {
   "display_name": "Python 2 (SageMath)",
   "language": "python",
   "name": "python2"
  },
  "language_info": {
   "codemirror_mode": {
    "name": "ipython",
    "version": 2
   },
   "file_extension": ".py",
   "mimetype": "text/x-python",
   "name": "python",
   "nbconvert_exporter": "python",
   "pygments_lexer": "ipython2",
   "version": "2.7.10"
  }
 },
 "nbformat": 4,
 "nbformat_minor": 0
}
